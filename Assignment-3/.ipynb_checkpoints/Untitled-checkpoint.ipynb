{
 "cells": [
  {
   "cell_type": "markdown",
   "metadata": {},
   "source": [
    "Given,\n",
    "\n",
    "$$ A \\vec{x} = \\lambda_1 \\vec{x} $$ \n",
    "$$ A \\vec{y} = \\lambda_2 \\vec{y} $$\n",
    "\n",
    "\n",
    "$\\vec{x}$ and $\\vec{y}$ are the eigen vectors for the $\\lambda_1$ and $\\lambda_2$ respectively\n",
    "\n",
    "Taking the equation-2 and multiplying the transpose of the $\\vec{x}$ \n",
    "\n",
    "$$ A \\vec{y} \\vec{x}^T = \\lambda_2 \\vec{y} \\vec{x}^T $$\n",
    "\n",
    "From the above equation, as A is a symmetric matirx\n",
    "\n",
    "$$ A \\vec{y} \\vec{x}^T = A^T \\vec{y} \\vec{x}^T $$\n",
    "\n",
    "so, \n",
    "\n",
    "$$ (A\\vec{x})^T \\vec{y}  = (\\lambda_1 \\vec{x})^T \\vec{y} = \\lambda_1 (\\vec{x}^T \\vec{y}) $$\n",
    "\n",
    "similarly for the other equation,\n",
    "\n",
    "$$ (A\\vec{x})^T \\vec{y}  = \\lambda_2 (\\vec{x}^T \\vec{y}) $$\n",
    "\n",
    "$$ \\lambda_1 (\\vec{x}^T y) = \\lambda_2 (\\vec{x}^T y) $$\n",
    "$$ (\\lambda_1 - \\lambda_2) (x^T y) = 0 $$\n",
    "\n",
    "as $\\lambda_1$ != $\\lambda_2$\n",
    "\n",
    "$$ x^T y = 0 $$\n",
    "\n",
    "There fore $\\vec{x} $ and $\\vec{y}$ are Orthogonal for different eigenvectors."
   ]
  },
  {
   "cell_type": "code",
   "execution_count": null,
   "metadata": {
    "collapsed": true
   },
   "outputs": [],
   "source": []
  }
 ],
 "metadata": {
  "kernelspec": {
   "display_name": "Python 3",
   "language": "python",
   "name": "python3"
  },
  "language_info": {
   "codemirror_mode": {
    "name": "ipython",
    "version": 3
   },
   "file_extension": ".py",
   "mimetype": "text/x-python",
   "name": "python",
   "nbconvert_exporter": "python",
   "pygments_lexer": "ipython3",
   "version": "3.6.1"
  }
 },
 "nbformat": 4,
 "nbformat_minor": 2
}
