{
 "cells": [
  {
   "cell_type": "markdown",
   "metadata": {},
   "source": [
    "# Imports (do NOT change/add)"
   ]
  },
  {
   "cell_type": "code",
   "execution_count": 1,
   "metadata": {
    "collapsed": true
   },
   "outputs": [],
   "source": [
    "import operator\n",
    "\n",
    "import csv\n",
    "import statistics as stats\n",
    "import math\n",
    "import random\n",
    "\n",
    "import matplotlib.pyplot as plt\n",
    "%matplotlib inline"
   ]
  },
  {
   "cell_type": "markdown",
   "metadata": {},
   "source": [
    "## 1. Load Wine Dataset\n",
    "Loading/analyzing a subset of the [wine dataset](http://archive.ics.uci.edu/ml/datasets/Wine)\n",
    "* Overlay histograms of the two features (alcohol, ascalinity)\n",
    "* Output count of points, as well as mean & sample standard deviation of the features"
   ]
  },
  {
   "cell_type": "code",
   "execution_count": 2,
   "metadata": {
    "collapsed": true
   },
   "outputs": [],
   "source": [
    "alcohol = []\n",
    "ascalinity = []\n",
    "\n",
    "with open('wine_data.csv', \"r\") as csvfile:\n",
    "    for row in csv.reader(csvfile):\n",
    "        alcohol.append(float(row[0]))\n",
    "        ascalinity.append(float(row[1]))\n",
    "        \n",
    "data = list(zip(alcohol, ascalinity))"
   ]
  },
  {
   "cell_type": "code",
   "execution_count": 3,
   "metadata": {},
   "outputs": [
    {
     "name": "stdout",
     "output_type": "stream",
     "text": [
      "Alcohol: mean=13.00062, std=0.81183\n",
      "Ascalinity: mean=19.49494, std=3.33956\n"
     ]
    },
    {
     "data": {
      "image/png": "[encoded data removed]",
      "text/plain": [
       "<matplotlib.figure.Figure at 0x117934b70>"
      ]
     },
     "metadata": {},
     "output_type": "display_data"
    }
   ],
   "source": [
    "# TODO\n",
    "# 1. Overlay histograms of the two features (alcohol, ascalinity)\n",
    "bins = 20\n",
    "plt.hist(alcohol, int(bins/5), alpha=0.5, label='Alcohol')\n",
    "plt.hist(ascalinity, bins, alpha=0.5, label='Ascalinity')\n",
    "plt.legend(loc='upper right')\n",
    "\n",
    "# 2. Output count of points, as well as mean & sample standard deviation of the features\n",
    "print(\"Alcohol: mean={:.5f}, std={:.5f}\".format(stats.mean(alcohol), stats.stdev(alcohol)))\n",
    "print(\"Ascalinity: mean={:.5f}, std={:.5f}\".format(stats.mean(ascalinity), stats.stdev(ascalinity)))\n"
   ]
  },
  {
   "cell_type": "markdown",
   "metadata": {},
   "source": [
    "# 2. Distance Metrics\n",
    "* Implement the sse function and the general minkowski distance function"
   ]
  },
  {
   "cell_type": "code",
   "execution_count": 4,
   "metadata": {
    "collapsed": true
   },
   "outputs": [],
   "source": [
    "# TODO\n",
    "# returns the sum-squared-error between two points\n",
    "def sse(x1, x2):\n",
    "    e = (((x2[0]-x1[0])**2) + ((x2[1]-x1[1])**2))\n",
    "    return e"
   ]
  },
  {
   "cell_type": "code",
   "execution_count": 63,
   "metadata": {
    "collapsed": true
   },
   "outputs": [],
   "source": [
    "# TODO\n",
    "# returns the minkowski distance between x1 and x2\n",
    "def minkowski_distance(x1, x2, q):\n",
    "    d = ((abs((x2[0]-x1[0])**q) + abs((x2[1]-x1[1])**q))**(1/q))\n",
    "    return d"
   ]
  },
  {
   "cell_type": "code",
   "execution_count": 6,
   "metadata": {
    "collapsed": true
   },
   "outputs": [],
   "source": [
    "# returns the L2 distance from x1 to x2\n",
    "def euclidean_distance(x1, x2):\n",
    "    return minkowski_distance(x1, x2, 2)"
   ]
  },
  {
   "cell_type": "code",
   "execution_count": 7,
   "metadata": {
    "collapsed": true
   },
   "outputs": [],
   "source": [
    "# returns the L1 distance from x1 to x2\n",
    "def manhattan_distance(x1, x2):\n",
    "    return minkowski_distance(x1, x2, 1)"
   ]
  },
  {
   "cell_type": "code",
   "execution_count": 106,
   "metadata": {},
   "outputs": [
    {
     "name": "stdout",
     "output_type": "stream",
     "text": [
      "SSE [0, 0] -> [3, 4] = 25.00000, expected=25.00000\n",
      "Euclidean [0, 0] -> [3, 4] = 5.00000, expected=5.00000\n",
      "Euclidean [3, 4] -> [0, 0] = 5.00000, expected=5.00000\n",
      "Manhattan [0, 0] -> [3, 4] = 7.00000, expected=7.00000\n",
      "Manhattan [3, 4] -> [0, 0] = 7.00000, expected=7.00000\n"
     ]
    }
   ],
   "source": [
    "t1 = [0,0]\n",
    "t2 = [3,4]\n",
    "\n",
    "print(\"SSE {} -> {} = {:.5f}, expected={:.5f}\".format(t1, t2, sse(t1, t2), 25.))\n",
    "\n",
    "print(\"Euclidean {} -> {} = {:.5f}, expected={:.5f}\".format(t1, t2, euclidean_distance(t1, t2), 5.))\n",
    "print(\"Euclidean {} -> {} = {:.5f}, expected={:.5f}\".format(t2, t1, euclidean_distance(t2, t1), 5.))\n",
    "\n",
    "print(\"Manhattan {} -> {} = {:.5f}, expected={:.5f}\".format(t1, t2, manhattan_distance(t1, t2), 7.))\n",
    "print(\"Manhattan {} -> {} = {:.5f}, expected={:.5f}\".format(t2, t1, manhattan_distance(t2, t1), 7.))"
   ]
  },
  {
   "cell_type": "markdown",
   "metadata": {},
   "source": [
    "# 3. K-Means\n",
    "* Implement choose_cluster (find the closest centroid w.r.t. a distance metric)\n",
    "* Implement k-means\n",
    "* Respond to a question regarding plotted clusterings"
   ]
  },
  {
   "cell_type": "code",
   "execution_count": 98,
   "metadata": {
    "collapsed": true
   },
   "outputs": [],
   "source": [
    "# TODO\n",
    "def new_Centroids(cluster_data):    \n",
    "    l = []\n",
    "    for k in cluster_data:\n",
    "        l.append(cluster_data[k])\n",
    "    l = list(set(l))\n",
    "    \n",
    "    k_cen = []\n",
    "    for i in l:\n",
    "        temp = []\n",
    "        for k in cluster_data:\n",
    "            if(cluster_data[k] == i):\n",
    "                temp.append(k)\n",
    "        k_cen.append(temp)\n",
    "    \n",
    "    new_cent = []\n",
    "    for element in k_cen:\n",
    "        x = [p[0] for p in element]\n",
    "        y = [p[1] for p in element]\n",
    "        new_cent.append((stats.mean(x),stats.mean(y)))  \n",
    "    return new_cent\n",
    "\n",
    "\n",
    "# SSE Calculation\n",
    "def sse_cal(centroid, data, distance_metrics):\n",
    "    d = []\n",
    "    for point in data:\n",
    "        d.append(distance_metrics(point,centroid))        \n",
    "    return sum(d)\n",
    "         "
   ]
  },
  {
   "cell_type": "code",
   "execution_count": 107,
   "metadata": {
    "collapsed": true
   },
   "outputs": [],
   "source": [
    "# TODO\n",
    "# Inputs: \n",
    "#  initial_centroids: locations (length=K)\n",
    "#  data: data points (length=N)\n",
    "#  distance_metric: how to select the closest point in the e-step\n",
    "# \n",
    "# Outputs:\n",
    "#  centroids: locations (length=K)\n",
    "#  new_clusters: for each data point, index of associated cluster\n",
    "#  iterations: count of iterations taken\n",
    "#  total_sse: SSE of final clustering\n",
    "def kmeans(initial_centroids, data, distance_metric):\n",
    "    centroids = initial_centroids[:]\n",
    "    n_centroids = []\n",
    "    iterations = 0\n",
    "    total_sse = 0\n",
    "    for i in range(100):     \n",
    "        clu = {}\n",
    "        clu_list = []\n",
    "        for point in data:\n",
    "            dis = []\n",
    "            count = 0\n",
    "            for element in centroids:  \n",
    "                dis.append((count,point,distance_metric(element,point)))\n",
    "                count += 1\n",
    "            m = min(dis, key = lambda t: t[2])\n",
    "            clu_list.append(m[0])\n",
    "            clu[m[1]] = m[0]\n",
    "   \n",
    "        n_centroids = new_Centroids(clu)\n",
    "        iterations += 1\n",
    "        \n",
    "        if(centroids == n_centroids):\n",
    "            total_sse = []\n",
    "            for i in range(len(n_centroids)):\n",
    "                total_sse.append(sse_cal(n_centroids[i], [p for p,v in clu.items() if i == v], distance_metric))\n",
    "            return n_centroids, clu_list, iterations, sum(total_sse)\n",
    "        else:\n",
    "            centroids = n_centroids\n",
    "        "
   ]
  },
  {
   "cell_type": "code",
   "execution_count": 108,
   "metadata": {
    "collapsed": true
   },
   "outputs": [],
   "source": [
    "def cluster_plot(centroids, data, clustering):\n",
    "    for i,c in enumerate(centroids):\n",
    "        points = [data[idx] for idx,c in enumerate(clustering) if c == i]\n",
    "        plt.scatter([d[0] for d in points], [d[1] for d in points], label=\"{}\".format(i))\n",
    "        plt.plot(c[0], c[1], 'kx', mew=5, ms=10)"
   ]
  },
  {
   "cell_type": "code",
   "execution_count": 109,
   "metadata": {
    "collapsed": true
   },
   "outputs": [],
   "source": [
    "initial_centroids = [data[175], data[25], data[67]]"
   ]
  },
  {
   "cell_type": "code",
   "execution_count": 110,
   "metadata": {
    "scrolled": true
   },
   "outputs": [
    {
     "data": {
      "image/png": "[encoded data removed]",
      "text/plain": [
       "<matplotlib.figure.Figure at 0x11b3533c8>"
      ]
     },
     "metadata": {},
     "output_type": "display_data"
    }
   ],
   "source": [
    "centroids, clustering, _, _ = kmeans(initial_centroids, data, euclidean_distance)\n",
    "cluster_plot(centroids, data, clustering)"
   ]
  },
  {
   "cell_type": "code",
   "execution_count": 111,
   "metadata": {},
   "outputs": [
    {
     "data": {
      "image/png": "[encoded data removed]",
      "text/plain": [
       "<matplotlib.figure.Figure at 0x11b367cf8>"
      ]
     },
     "metadata": {},
     "output_type": "display_data"
    }
   ],
   "source": [
    "centroids, clustering, _, _ = kmeans(initial_centroids, data, manhattan_distance)\n",
    "cluster_plot(centroids, data, clustering)"
   ]
  },
  {
   "cell_type": "code",
   "execution_count": 112,
   "metadata": {},
   "outputs": [
    {
     "data": {
      "image/png": "[encoded data removed]",
      "text/plain": [
       "<matplotlib.figure.Figure at 0x11b775fd0>"
      ]
     },
     "metadata": {},
     "output_type": "display_data"
    }
   ],
   "source": [
    "centroids, clustering, _, _ = kmeans(initial_centroids, data, lambda x,y: minkowski_distance(x, y, 3))\n",
    "cluster_plot(centroids, data, clustering)"
   ]
  },
  {
   "cell_type": "markdown",
   "metadata": {},
   "source": [
    "## Q: What conclusion can you draw from these plots?\n",
    "\n",
    "Number of the data points in a cluster are changing based on the distance metric used. Maily for the points near to the borders of the clusters."
   ]
  },
  {
   "cell_type": "markdown",
   "metadata": {},
   "source": [
    "# 4. Choosing K\n",
    "* Runs several trials of K-Means with different initial points (Forgy), recording SSE\n",
    "* Plot SSE vs K\n",
    "* Respond to the question below"
   ]
  },
  {
   "cell_type": "code",
   "execution_count": 114,
   "metadata": {},
   "outputs": [
    {
     "data": {
      "text/plain": [
       "<matplotlib.text.Text at 0x11b995c50>"
      ]
     },
     "execution_count": 114,
     "metadata": {},
     "output_type": "execute_result"
    },
    {
     "data": {
      "image/png": "[encoded data removed]",
      "text/plain": [
       "<matplotlib.figure.Figure at 0x11b510cc0>"
      ]
     },
     "metadata": {},
     "output_type": "display_data"
    }
   ],
   "source": [
    "max_clusters = 10\n",
    "trials = 5\n",
    "\n",
    "clusters = []\n",
    "sses = []\n",
    "\n",
    "random.seed(8675309)\n",
    "\n",
    "# TODO\n",
    "# 1. Perform 5 trials (randomizing initial points ala Forgy) for each of K=1, 2, ... 10\n",
    "# 2. Plot SSE vs K\n",
    "\n",
    "def choosing_K(data,distance_metric):\n",
    "    total_sse = []\n",
    "    for i in range(max_clusters):\n",
    "        clusters.append(i+1)\n",
    "        for j in range(trials):\n",
    "            c_sse = []\n",
    "            random.shuffle(data)\n",
    "            centroids = data[0:i+1]\n",
    "            _, _, _, sse = kmeans(centroids, data, distance_metric)\n",
    "            c_sse.append(sse)\n",
    "        total_sse.append(stats.mean(c_sse))\n",
    "    return(total_sse)\n",
    "\n",
    "sses = choosing_K(data,euclidean_distance)\n",
    "\n",
    "\n",
    "    \n",
    "plt.plot(clusters, sses)\n",
    "plt.xticks(range(1, len(clusters)+1, 1))\n",
    "plt.title('SSE vs Clusters')"
   ]
  },
  {
   "cell_type": "markdown",
   "metadata": {},
   "source": [
    "## Q: What is a reasonable value for K based upon this data -- why?\n",
    "\n",
    "As we can see from the above, best value for the k would be 6 after which there is no much decrease in the SSE as we increase the K value.\n"
   ]
  }
 ],
 "metadata": {
  "kernelspec": {
   "display_name": "Python 3",
   "language": "python",
   "name": "python3"
  },
  "language_info": {
   "codemirror_mode": {
    "name": "ipython",
    "version": 3
   },
   "file_extension": ".py",
   "mimetype": "text/x-python",
   "name": "python",
   "nbconvert_exporter": "python",
   "pygments_lexer": "ipython3",
   "version": "3.6.1"
  }
 },
 "nbformat": 4,
 "nbformat_minor": 2
}
